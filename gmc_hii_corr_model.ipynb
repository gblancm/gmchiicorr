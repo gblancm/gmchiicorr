{
 "cells": [
  {
   "cell_type": "code",
   "execution_count": 490,
   "metadata": {},
   "outputs": [],
   "source": [
    "import numpy as np\n",
    "import matplotlib.pyplot as plt\n",
    "from scipy.spatial.distance import cdist\n",
    "import astropy.io.ascii as ascii\n",
    "import time\n",
    "from scipy.optimize import curve_fit\n",
    "\n",
    "#np.random.seed(666)"
   ]
  },
  {
   "cell_type": "markdown",
   "metadata": {},
   "source": [
    "## Name of galaxy"
   ]
  },
  {
   "cell_type": "code",
   "execution_count": 583,
   "metadata": {},
   "outputs": [],
   "source": [
    "#galaxy='IC5332'\n",
    "#galaxy='NGC0628'\n",
    "#galaxy='NGC1087'\n",
    "#galaxy='NGC1365' \n",
    "#galaxy='NGC1512'\n",
    "#galaxy='NGC1672'\n",
    "#galaxy='NGC2835'\n",
    "#galaxy='NGC3351'\n",
    "galaxy='NGC3627'\n",
    "#galaxy='NGC5068'\n"
   ]
  },
  {
   "cell_type": "markdown",
   "metadata": {},
   "source": [
    "## Function that calculates the 2-point cross-correlation function"
   ]
  },
  {
   "cell_type": "code",
   "execution_count": 584,
   "metadata": {},
   "outputs": [],
   "source": [
    "def w(x1, y1, x2, y2, xr, yr, rmin=0, rmax=5000, dr=25):\n",
    "\n",
    "    ddarr=cdist(np.transpose(np.array([x1,y1])), np.transpose(np.array([x2,y2]))).ravel()  \n",
    "    drarr=cdist(np.transpose(np.array([x1,y1])), np.transpose(np.array([xr,yr]))).ravel()\n",
    "\n",
    "    # Count pairs in distance bins       \n",
    "    N1=len(x1)\n",
    "    N2=len(x2)\n",
    "    Nr=len(xr)\n",
    "    bins=np.arange(rmin+dr/2, rmax, dr) # centers of bins for output\n",
    "\n",
    "    dd0, dd0bins = np.histogram(ddarr, bins=np.arange(rmin, rmax+dr, dr)) #here bins are bin edges\n",
    "    dr0, dr0bins = np.histogram(drarr, bins=np.arange(rmin, rmax+dr, dr))\n",
    "    \n",
    "    # Normalize pair counts and compute cross-correlation function\n",
    "    dd=dd0/N1/N2\n",
    "    dr=dr0/N1/Nr\n",
    "    omega=dd/dr-1\n",
    "    \n",
    "    edd=np.sqrt(dd0)/N1/N2\n",
    "    edr=np.sqrt(dr0)/N1/Nr\n",
    "\n",
    "    eomega=np.sqrt((edd/dr)**2+(dd*edr/dr**2)**2)\n",
    "\n",
    "    return (bins, omega, eomega)\n"
   ]
  },
  {
   "cell_type": "markdown",
   "metadata": {},
   "source": [
    "## Functions that draws N model GMCs and returns properties"
   ]
  },
  {
   "cell_type": "code",
   "execution_count": 585,
   "metadata": {},
   "outputs": [],
   "source": [
    "# This version just uses the observed GMC coordinates and assumes constant parameters for all clouds\n",
    "\n",
    "def drawgmc_xy(x,y,rc=25,tc=30,ts=10,tfb=5,Ng=1,voff=10):\n",
    "\n",
    "    ngmc=len(x) # number of GMCs\n",
    "    \n",
    "    xgmc=x # gmc x coordinates [pc]\n",
    "    ygmc=y # gmc y coordinates [pc]\n",
    "    \n",
    "    rc=np.repeat(rc,ngmc) # gmc radius [pc]\n",
    "    tc=np.repeat(tc,ngmc) # gmc lifetime [Myr]\n",
    "    ts=np.repeat(ts,ngmc) # stellar SF tracer lifetime [Myr]\n",
    "    tfb=np.repeat(tfb,ngmc) # stellar SF tracer emergence time [Myr]\n",
    "    Ng=np.repeat(Ng,ngmc).astype(int) # number of massive SF episodes during gmc lifetime\n",
    "    voff=np.repeat(voff,ngmc) # stellar SF tracer centorid to GMC centroid offset speed [km/s]\n",
    "\n",
    "    tobs=np.random.uniform(0, tc-tfb+ts, ngmc) # random observation time for this cloud (between zero and tc+ts)\n",
    "    fgmc=np.repeat(True, ngmc) # GMC visibility flag\n",
    "    fgmc[tobs > tc]=False # visibility flag is False if GMC has faded\n",
    "\n",
    "    return (xgmc, ygmc, rc, tc, ts, tfb, Ng, voff, tobs, fgmc)\n",
    "    "
   ]
  },
  {
   "cell_type": "code",
   "execution_count": 611,
   "metadata": {},
   "outputs": [],
   "source": [
    "# This version samples GMC coordinates with a typical separation scale \"l\" within a 2x2 kpc box, and assumes constant parameters for all clouds\n",
    "# Also returns random catalog coordinates over the same area and Frand*Ngmc points\n",
    "def drawgmc_l(dbox=2000,l=200,rc=25,tc=30,ts=10,tfb=5,Ng=1,voff=10, frand=10):\n",
    "\n",
    "    area=dbox**2\n",
    "    ngmc=int(area/l**2) # number of GMCs\n",
    "    \n",
    "    xgmc=np.random.uniform(-0.5*dbox, 0.5*dbox, ngmc) # gmc x coordinates [pc]\n",
    "    ygmc=np.random.uniform(-0.5*dbox, 0.5*dbox, ngmc) # gmc y coordinates [pc]\n",
    "\n",
    "    xr=np.random.uniform(-0.5*dbox, 0.5*dbox, frand*ngmc) # gmc x coordinates [pc]\n",
    "    yr=np.random.uniform(-0.5*dbox, 0.5*dbox, frand*ngmc) # gmc y coordinates [pc]\n",
    "\n",
    "    \n",
    "    rc=np.repeat(rc,ngmc) # gmc radius [pc]\n",
    "    tc=np.repeat(tc,ngmc) # gmc lifetime [Myr]\n",
    "    ts=np.repeat(ts,ngmc) # stellar SF tracer lifetime [Myr]\n",
    "    tfb=np.repeat(tfb,ngmc) # stellar SF tracer emergence time [Myr]\n",
    "    Ng=np.repeat(Ng,ngmc).astype(int) # number of massive SF episodes during gmc lifetime\n",
    "    voff=np.repeat(voff,ngmc) # stellar SF tracer centorid to GMC centroid offset speed [km/s]\n",
    "\n",
    "    tobs=np.random.uniform(0, tc-tfb+ts, ngmc) # random observation time for this cloud (between zero and tc+ts)\n",
    "    fgmc=np.repeat(True, ngmc) # GMC visibility flag\n",
    "    fgmc[tobs > tc]=False # visibility flag is False if GMC has faded\n",
    "\n",
    "    print(\"Generating GMC and random coordinates:\", ngmc, frand*ngmc)\n",
    "    return (xgmc, ygmc, rc, tc, ts, tfb, Ng, voff, tobs, fgmc, xr, yr)\n",
    "    "
   ]
  },
  {
   "cell_type": "code",
   "execution_count": null,
   "metadata": {},
   "outputs": [],
   "source": []
  },
  {
   "cell_type": "markdown",
   "metadata": {},
   "source": [
    "## Function that draws N*Ng HII regions given an ensemble of GMCs"
   ]
  },
  {
   "cell_type": "code",
   "execution_count": 592,
   "metadata": {},
   "outputs": [],
   "source": [
    "def drawhii(xgmc, ygmc, rc, tc, ts, tfb, Ng, voff, tobs, fgmc):\n",
    "    \n",
    "    ngmc=len(xgmc) # number of GMCs\n",
    "    nhii=np.sum(Ng.astype(int)) # number of HII regions\n",
    "    voffaux=voff*3.2e-14*(1e6*365*24*3600) # velocity in pc/Myr\n",
    "\n",
    "\n",
    "    xhii=np.zeros(nhii) # HII region initial coordinates\n",
    "    yhii=np.zeros(nhii)\n",
    "    t0=np.zeros(nhii) # HII region formation time\n",
    "    fhii=np.repeat(False,nhii) # HII region visibility flag\n",
    "    indgmc=np.zeros(nhii) # gmc list index\n",
    "\n",
    "    \n",
    "    k=0 # counter\n",
    "    for i in range(ngmc):\n",
    "        for j in range(Ng[i]):\n",
    "\n",
    "            # initial position\n",
    "            r0=rc[i]*np.sqrt(np.random.uniform(0,1)) # uniform across circular area\n",
    "#            r0=rc[i]*np.random.uniform(0,1) # uniform in radius (i.e. as r**-2)\n",
    "            theta0=np.random.uniform(0, 2*np.pi)\n",
    "            x0=xgmc[i]+r0*np.cos(theta0)\n",
    "            y0=ygmc[i]+r0*np.sin(theta0)\n",
    "\n",
    "            #formation time\n",
    "            t0[k]=np.random.uniform(0, tc[i]-tfb[i])    \n",
    "            \n",
    "            #offset direction and final position at tobs\n",
    "            phi=np.random.uniform(0, 2*np.pi)\n",
    "            xhii[k]=x0+voffaux[i]*(tobs[i]-t0[k])*np.cos(phi)\n",
    "            yhii[k]=y0+voffaux[i]*(tobs[i]-t0[k])*np.sin(phi)\n",
    "\n",
    "            #visibility flag is True if cloud has already formed and emerged, and has not yet faded\n",
    "            if (t0[k]+tfb[i]<tobs[i])*(tobs[i]<t0[k]+ts[i]):\n",
    "                fhii[k]=True\n",
    "\n",
    "                #print(t0[k], tfb[i], ts[i], tobs[i], t0[k]+tfb[i], t0[k]+ts[i], fhii[k])\n",
    "            \n",
    "            #GMC list index\n",
    "            indgmc=i\n",
    "            \n",
    "            k=k+1\n",
    "        \n",
    "    \n",
    "    return (xhii,yhii,fhii)\n",
    "    \n",
    "    \n",
    "    "
   ]
  },
  {
   "cell_type": "markdown",
   "metadata": {},
   "source": [
    "## Read GMC and Random catalogs coordinates"
   ]
  },
  {
   "cell_type": "code",
   "execution_count": 593,
   "metadata": {},
   "outputs": [],
   "source": [
    "xygmc=ascii.read('./output/'+galaxy+'_xy_gmc.txt')\n",
    "x1=xygmc['col0'].data\n",
    "y1=xygmc['col1'].data\n",
    "\n",
    "xyrand=ascii.read('./output/'+galaxy+'_xy_rand.txt')\n",
    "xr=xyrand['col0'].data\n",
    "yr=xyrand['col1'].data\n"
   ]
  },
  {
   "cell_type": "markdown",
   "metadata": {},
   "source": [
    "## Read Observed Correlation Function"
   ]
  },
  {
   "cell_type": "code",
   "execution_count": 594,
   "metadata": {},
   "outputs": [],
   "source": [
    "obscorr=ascii.read('./output/'+galaxy+'_corr.txt')\n",
    "r0obs=obscorr['col0'].data\n",
    "w0obs=obscorr['col1'].data\n",
    "ew0obs=obscorr['col2'].data"
   ]
  },
  {
   "cell_type": "markdown",
   "metadata": {},
   "source": [
    "## Test Model"
   ]
  },
  {
   "cell_type": "code",
   "execution_count": 649,
   "metadata": {
    "scrolled": false
   },
   "outputs": [
    {
     "name": "stdout",
     "output_type": "stream",
     "text": [
      "Generating GMC and random coordinates: 1111 11110\n",
      "Generating GMC and random coordinates: 1111 11110\n",
      "Generating GMC and random coordinates: 1111 11110\n"
     ]
    },
    {
     "data": {
      "image/png": "[encoded data removed]",
      "text/plain": [
       "<Figure size 864x576 with 1 Axes>"
      ]
     },
     "metadata": {
      "needs_background": "light"
     },
     "output_type": "display_data"
    },
    {
     "name": "stderr",
     "output_type": "stream",
     "text": [
      "No handles with labels found to put in legend.\n"
     ]
    },
    {
     "data": {
      "image/png": "[encoded data removed]",
      "text/plain": [
       "<Figure size 864x864 with 1 Axes>"
      ]
     },
     "metadata": {
      "needs_background": "light"
     },
     "output_type": "display_data"
    },
    {
     "name": "stdout",
     "output_type": "stream",
     "text": [
      "Run Time [s] = 3.610647201538086\n"
     ]
    }
   ],
   "source": [
    "t0=time.time()\n",
    "\n",
    "fig, ax = plt.subplots(figsize=(12, 8))\n",
    "\n",
    "for i in range(3):\n",
    "\n",
    "#    xgmc, ygmc, rc, tc, ts, tfb, Ng, voff, tobs, fgmc = drawgmc_xy(x1, y1, rc=20,tc=100,ts=10,tfb=4,Ng=1,voff=10)\n",
    "    IC=0.2\n",
    "    xgmc, ygmc, rc, tc, ts, tfb, Ng, voff, tobs, fgmc, xr, yr = drawgmc_l(dbox=10000, l=300, rc=50,tc=20,ts=15,tfb=4,Ng=10,voff=10,frand=10)\n",
    "    xhii, yhii, fhii = drawhii(xgmc, ygmc, rc, tc, ts, tfb, Ng, voff, tobs, fgmc)\n",
    "    r0, w0, ew0 = w(xgmc[fgmc], ygmc[fgmc], xhii[fhii], yhii[fhii], xr, yr, rmax=1000)\n",
    "    w0=w0+IC\n",
    "    \n",
    "    \n",
    "#    print(w0)\n",
    "    \n",
    "#    w0=w0/12\n",
    "#    ew0=ew0/12\n",
    "    \n",
    "    #ax.errorbar(r0, w0, ew0, fmt=\"-o\", color='red', capsize=5, alpha=0.5)\n",
    "    ax.plot(r0, w0, 'o', color='red', alpha=0.5)\n",
    "    \n",
    "\n",
    "ax.errorbar(r0obs, w0obs, ew0obs, fmt=\"o\", color='black', capsize=5, alpha=0.5)\n",
    "ax.plot(r0obs, w0obs, '-o', color='black', alpha=0.5)\n",
    "ax.set_xlim(0, 1000)\n",
    "ax.axhline(y=0, linestyle='--')\n",
    "ax.set_xlabel('r [pc]', fontsize=20)\n",
    "ax.set_ylabel(r'$\\omega(r)$ [pc]', fontsize=20)\n",
    "ax.set_title(galaxy, fontsize=30)\n",
    "ax.tick_params(labelsize=20)\n",
    "#ax.set_yscale('log')\n",
    "plt.savefig('./plots/'+galaxy+'_corr_model.png')\n",
    "plt.show()\n",
    "\n",
    "\n",
    "fig, ax = plt.subplots(figsize=(12, 12))\n",
    "#ax.plot(xgmc, ygmc, '.', color='blue', alpha=0.4)\n",
    "ax.plot(xgmc[fgmc], ygmc[fgmc], 'o', color='blue')\n",
    "#ax.plot(xhii, yhii, '.', color='red', alpha=0.4)\n",
    "ax.plot(xhii[fhii], yhii[fhii], 'o', color='red')\n",
    "ax.set_xlim(-1000, 1000)\n",
    "ax.set_ylim(-1000, 1000)\n",
    "ax.set_xlabel('X [pc]', fontsize=20)\n",
    "ax.set_ylabel('Y [pc]', fontsize=20)\n",
    "ax.set_title(galaxy, fontsize=30)\n",
    "ax.tick_params(labelsize=20)\n",
    "ax.legend(fontsize=20)\n",
    "plt.savefig('./plots/'+galaxy+'_xy_model.png')\n",
    "plt.show()\n",
    "\n",
    "print(\"Run Time [s] =\", time.time()-t0)\n",
    "\n"
   ]
  },
  {
   "cell_type": "code",
   "execution_count": null,
   "metadata": {},
   "outputs": [],
   "source": []
  },
  {
   "cell_type": "code",
   "execution_count": 393,
   "metadata": {},
   "outputs": [
    {
     "name": "stdout",
     "output_type": "stream",
     "text": [
      "[ 1.   1.5  2.   2.5  3.   3.5  4.   4.5  5.   5.5  6.   6.5  7.   7.5\n",
      "  8.   8.5  9.   9.5 10. ]\n",
      "[1.25 1.75 2.25 2.75 3.25 3.75 4.25 4.75 5.25 5.75 6.25 6.75 7.25 7.75\n",
      " 8.25 8.75 9.25 9.75]\n"
     ]
    }
   ],
   "source": [
    "print(np.arange(1, 10+0.5, 0.5))\n",
    "print(np.arange(1+0.5/2, 10, 0.5))\n"
   ]
  },
  {
   "cell_type": "code",
   "execution_count": null,
   "metadata": {},
   "outputs": [],
   "source": []
  },
  {
   "cell_type": "code",
   "execution_count": null,
   "metadata": {},
   "outputs": [],
   "source": [
    "\n",
    "\n",
    "fig, ax = plt.subplots(figsize=(12, 8))\n",
    "ax.errorbar(r0obs, w0obs, ew0obs, fmt=\"o\", color='black', capsize=5, alpha=0.5)\n",
    "ax.plot(r0obs, w0obs, 'o', color='black', alpha=0.5)\n",
    "ax.errorbar(r0, w0, ew0, fmt=\"o\", color='red', capsize=5, alpha=0.5)\n",
    "ax.plot(r0, w0, 'o', color='red', alpha=0.5)\n",
    "#ax.plot(r1, w1, '-o')\n",
    "#ax.plot(r2, w2, '-o')\n",
    "#ax.plot(r3, w3, '-o')\n",
    "#ax.set_xlim(0, 250)\n",
    "ax.axhline(y=0, linestyle='--')\n",
    "plt.xlabel('r [pc]', fontsize=20)\n",
    "plt.ylabel(r'$\\omega(r)$ [pc]', fontsize=20)\n",
    "plt.title(galaxy, fontsize=30)\n",
    "ax.tick_params(labelsize=20)\n",
    "#ax.set_yscale('log')\n",
    "plt.savefig('./plots/'+galaxy+'_corr.png')\n",
    "plt.show()\n",
    "\n",
    "\n",
    "fig, ax = plt.subplots(figsize=(12, 8))\n",
    "ax.errorbar(r0obs, w0obs, ew0obs, fmt=\"o\", color='black', capsize=5, alpha=0.5)\n",
    "ax.plot(r0obs, w0obs, 'o', color='black', alpha=0.5)\n",
    "ax.errorbar(r0, w0, ew0, fmt=\"o\", color='red', capsize=5, alpha=0.5)\n",
    "ax.plot(r0, w0, 'o', color='red', alpha=0.5)\n",
    "#ax.plot(r1, w1, '-o')\n",
    "#ax.plot(r2, w2, '-o')\n",
    "#ax.plot(r3, w3, '-o')\n",
    "#ax.set_xlim(0, 250)\n",
    "#ax.set_ylim(1e-3, 1e1)\n",
    "ax.axhline(y=0, linestyle='--')\n",
    "plt.xlabel('r [pc]', fontsize=20)\n",
    "plt.ylabel(r'log($\\omega(r)$) [pc]', fontsize=20)\n",
    "plt.title(galaxy, fontsize=30)\n",
    "ax.tick_params(labelsize=20)\n",
    "ax.set_yscale('log')\n",
    "plt.savefig('./plots/'+galaxy+'_corr_log.png')\n",
    "plt.show()\n",
    "\n"
   ]
  },
  {
   "cell_type": "code",
   "execution_count": null,
   "metadata": {},
   "outputs": [],
   "source": [
    "\n",
    "def func(rin, rc0, tc0, ts0, tfb0, Ng0, voff0):\n",
    "    print(rc0, tc0, ts0, tfb0, Ng0, voff0)\n",
    "    xgmc, ygmc, rc, tc, ts, tfb, Ng, voff, tobs, fgmc = drawgmc(x1, y1, rc=rc0,tc=tc0,ts=ts0,tfb=tfb0,Ng=Ng0,voff=voff0)\n",
    "    xhii, yhii, fhii = drawhii(xgmc, ygmc, rc, tc, ts, tfb, Ng, voff, tobs, fgmc)\n",
    "    r0, w0, ew0 = w(xgmc[fgmc], ygmc[fgmc], xhii[fhii], yhii[fhii], xr, yr)\n",
    "    return w0\n",
    "    \n",
    "    \n",
    "p0=np.array([100, 60, 10, 5, 2, 5])\n",
    "\n",
    "\n",
    "popt, pcov = curve_fit(func, r0obs, w0obs, p0, method='trf', diff_step=1, verbose=2, bounds=((5, 5, 5, 1, 1, 1),(500, 200, 15, 10, 10, 50)))\n",
    "\n",
    "print(\"Best Fit Params\", popt)\n",
    "\n",
    "xgmc, ygmc, rc, tc, ts, tfb, Ng, voff, tobs, fgmc = drawgmc(x1, y1, rc=popt[0],tc=popt[1],ts=popt[2],tfb=popt[3],Ng=popt[4],voff=popt[5])\n",
    "\n",
    "xhii, yhii, fhii = drawhii(xgmc, ygmc, rc, tc, ts, tfb, Ng, voff, tobs, fgmc)\n",
    "r0, w0, ew0 = w(xgmc[fgmc], ygmc[fgmc], xhii[fhii], yhii[fhii], xr, yr)\n",
    "\n",
    "\n",
    "\n"
   ]
  }
 ],
 "metadata": {
  "kernelspec": {
   "display_name": "Python 3",
   "language": "python",
   "name": "python3"
  },
  "language_info": {
   "codemirror_mode": {
    "name": "ipython",
    "version": 3
   },
   "file_extension": ".py",
   "mimetype": "text/x-python",
   "name": "python",
   "nbconvert_exporter": "python",
   "pygments_lexer": "ipython3",
   "version": "3.6.8"
  }
 },
 "nbformat": 4,
 "nbformat_minor": 2
}
