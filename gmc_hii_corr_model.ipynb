{
 "cells": [
  {
   "cell_type": "code",
   "execution_count": 229,
   "metadata": {},
   "outputs": [],
   "source": [
    "import numpy as np\n",
    "import matplotlib.pyplot as plt\n",
    "from scipy.spatial.distance import cdist\n",
    "from scipy.optimize import curve_fit\n",
    "import astropy.io.ascii as ascii\n",
    "import time\n",
    "from scipy.optimize import curve_fit\n",
    "import emcee\n",
    "import pickle\n",
    "import os\n",
    "from multiprocessing import Pool\n",
    "from multiprocessing import cpu_count\n",
    "os.environ[\"OMP_NUM_THREADS\"] = \"1\"\n",
    "import corner\n",
    "\n",
    "\n",
    "#np.random.seed(666)"
   ]
  },
  {
   "cell_type": "markdown",
   "metadata": {},
   "source": [
    "## Name of galaxy"
   ]
  },
  {
   "cell_type": "code",
   "execution_count": 230,
   "metadata": {},
   "outputs": [],
   "source": [
    "#galaxy='IC5332'\n",
    "#galaxy='NGC0628'\n",
    "#galaxy='NGC1087'\n",
    "#galaxy='NGC1365' \n",
    "galaxy='NGC1512'\n",
    "#galaxy='NGC1672'\n",
    "#galaxy='NGC2835'\n",
    "#galaxy='NGC3351'\n",
    "#galaxy='NGC3627'\n",
    "#galaxy='NGC5068'\n"
   ]
  },
  {
   "cell_type": "markdown",
   "metadata": {},
   "source": [
    "## Function that calculates the 2-point cross-correlation function"
   ]
  },
  {
   "cell_type": "code",
   "execution_count": 231,
   "metadata": {},
   "outputs": [],
   "source": [
    "def w(x1, y1, x2, y2, xr, yr, rmin=0, rmax=5000, dr=25):\n",
    "\n",
    "    ddarr=cdist(np.transpose(np.array([x1,y1])), np.transpose(np.array([x2,y2]))).ravel()  \n",
    "    drarr=cdist(np.transpose(np.array([x1,y1])), np.transpose(np.array([xr,yr]))).ravel()\n",
    "\n",
    "    # Count pairs in distance bins       \n",
    "    N1=len(x1)\n",
    "    N2=len(x2)\n",
    "    Nr=len(xr)\n",
    "    bins=np.arange(rmin+dr/2, rmax, dr) # centers of bins for output\n",
    "\n",
    "    dd0, dd0bins = np.histogram(ddarr, bins=np.arange(rmin, rmax+dr, dr)) #here bins are bin edges\n",
    "    dr0, dr0bins = np.histogram(drarr, bins=np.arange(rmin, rmax+dr, dr))\n",
    "    \n",
    "    # Normalize pair counts and compute cross-correlation function\n",
    "    if (N1!=0)*(N2!=0)*(Nr!=0):\n",
    "        dd=dd0/N1/N2\n",
    "        dr=dr0/N1/Nr\n",
    "        omega=dd/dr-1\n",
    "    \n",
    "        edd=np.sqrt(dd0)/N1/N2\n",
    "        edr=np.sqrt(dr0)/N1/Nr\n",
    "\n",
    "        eomega=np.sqrt((edd/dr)**2+(dd*edr/dr**2)**2)\n",
    "    else:\n",
    "        omega=np.repeat(np.nan, len(bins))\n",
    "        eomega=np.repeat(np.nan, len(bins))\n",
    "        \n",
    "    return (bins, omega, eomega)\n"
   ]
  },
  {
   "cell_type": "markdown",
   "metadata": {},
   "source": [
    "## Functions that draws N model GMCs and returns properties"
   ]
  },
  {
   "cell_type": "code",
   "execution_count": 232,
   "metadata": {},
   "outputs": [],
   "source": [
    "# This version just uses the observed GMC coordinates and assumes constant parameters for all clouds\n",
    "\n",
    "def drawgmc_xy(x,y,rc=25,tc=30,ts=10,tfb=5,Ng=1,voff=10):\n",
    "\n",
    "    ngmc=len(x) # number of GMCs\n",
    "    \n",
    "    xgmc=x # gmc x coordinates [pc]\n",
    "    ygmc=y # gmc y coordinates [pc]\n",
    "    \n",
    "    rc=np.repeat(rc,ngmc) # gmc radius [pc]\n",
    "    tc=np.repeat(tc,ngmc) # gmc lifetime [Myr]\n",
    "    ts=np.repeat(ts,ngmc) # stellar SF tracer lifetime [Myr]\n",
    "    tfb=np.repeat(tfb,ngmc) # stellar SF tracer emergence time [Myr]\n",
    "    Ng=np.repeat(Ng,ngmc).astype(int) # number of massive SF episodes during gmc lifetime\n",
    "    voff=np.repeat(voff,ngmc) # stellar SF tracer centorid to GMC centroid offset speed [km/s]\n",
    "\n",
    "    tobs=np.random.uniform(0, tc-tfb+ts, ngmc) # random observation time for this cloud (between zero and tc+ts)\n",
    "    fgmc=np.repeat(True, ngmc) # GMC visibility flag\n",
    "    fgmc[tobs > tc]=False # visibility flag is False if GMC has faded\n",
    "\n",
    "    return (xgmc, ygmc, rc, tc, ts, tfb, Ng, voff, tobs, fgmc)\n",
    "    "
   ]
  },
  {
   "cell_type": "code",
   "execution_count": 233,
   "metadata": {},
   "outputs": [],
   "source": [
    "# This version samples GMC coordinates with a typical separation scale \"l\" within a dbox**2 kpc**2 box, and assumes constant parameters for all clouds\n",
    "# Also returns random catalog coordinates over the same area and Frand*Ngmc points\n",
    "def drawgmc_l(dbox=2000,l=200,rc=25,tc=30,ts=10,tfb=5,Ng=1,voff=10, frand=10):\n",
    "\n",
    "    area=dbox**2\n",
    "    ngmc=int(area/l**2) # number of GMCs\n",
    "    \n",
    "    xgmc=np.random.uniform(-0.5*dbox, 0.5*dbox, ngmc) # gmc x coordinates [pc]\n",
    "    ygmc=np.random.uniform(-0.5*dbox, 0.5*dbox, ngmc) # gmc y coordinates [pc]\n",
    "\n",
    "    xr=np.random.uniform(-0.5*dbox, 0.5*dbox, frand*ngmc) # gmc x coordinates [pc]\n",
    "    yr=np.random.uniform(-0.5*dbox, 0.5*dbox, frand*ngmc) # gmc y coordinates [pc]\n",
    "\n",
    "    rc=np.repeat(rc,ngmc) # gmc radius [pc]\n",
    "    tc=np.repeat(tc,ngmc) # gmc lifetime [Myr]\n",
    "    ts=np.repeat(ts,ngmc) # stellar SF tracer lifetime [Myr]\n",
    "    tfb=np.repeat(tfb,ngmc) # stellar SF tracer emergence time [Myr]\n",
    "    Ng=np.repeat(Ng,ngmc).astype(int) # number of massive SF episodes during gmc lifetime\n",
    "    voff=np.repeat(voff,ngmc) # stellar SF tracer centorid to GMC centroid offset speed [km/s]\n",
    "    tobs=np.random.uniform(0, tc-tfb+ts, ngmc) # random observation time for this cloud (between zero and tc+ts)\n",
    "    fgmc=np.repeat(True, ngmc) # GMC visibility flag\n",
    "    fgmc[tobs > tc]=False # visibility flag is False if GMC has faded\n",
    "\n",
    "    #print(\"Generating GMC and random coordinates:\", ngmc, frand*ngmc)\n",
    "    return (xgmc, ygmc, rc, tc, ts, tfb, Ng, voff, tobs, fgmc, xr, yr)\n",
    "    "
   ]
  },
  {
   "cell_type": "markdown",
   "metadata": {},
   "source": [
    "## Function that draws N*Ng HII regions given an ensemble of GMCs"
   ]
  },
  {
   "cell_type": "code",
   "execution_count": 234,
   "metadata": {},
   "outputs": [],
   "source": [
    "def drawhii(xgmc, ygmc, rc, tc, ts, tfb, Ng, voff, tobs, fgmc):\n",
    "    \n",
    "    ngmc=len(xgmc) # number of GMCs\n",
    "    nhii=np.sum(Ng.astype(int)) # number of HII regions\n",
    "    voffaux=voff*3.2e-14*(1e6*365*24*3600) # velocity in pc/Myr\n",
    "\n",
    "    xhii=np.zeros(nhii) # HII region initial coordinates\n",
    "    yhii=np.zeros(nhii)\n",
    "    t0=np.zeros(nhii) # HII region formation time\n",
    "    fhii=np.repeat(False,nhii) # HII region visibility flag\n",
    "    indgmc=np.zeros(nhii) # gmc list index\n",
    "\n",
    "    k=0 # counter\n",
    "    for i in range(ngmc):  # drawing HII regions for each GMC independently\n",
    "        for j in range(Ng[i]):\n",
    "\n",
    "            # initial position\n",
    "            r0=rc[i]*np.sqrt(np.random.uniform(0,1)) # uniform across circular area\n",
    "#            r0=rc[i]*np.random.uniform(0,1) # uniform in radius (i.e. as r**-2)\n",
    "            theta0=np.random.uniform(0, 2*np.pi)\n",
    "            x0=xgmc[i]+r0*np.cos(theta0)\n",
    "            y0=ygmc[i]+r0*np.sin(theta0)\n",
    "\n",
    "            #formation time (assuming stars form no later than tc-tfb)\n",
    "            t0[k]=np.random.uniform(0, tc[i]-tfb[i])    \n",
    "            \n",
    "            #offset direction and final position at tobs\n",
    "            phi=np.random.uniform(0, 2*np.pi)\n",
    "            xhii[k]=x0+voffaux[i]*(tobs[i]-t0[k])*np.cos(phi)\n",
    "            yhii[k]=y0+voffaux[i]*(tobs[i]-t0[k])*np.sin(phi)\n",
    "\n",
    "            #visibility flag is True if cloud has already formed and emerged, and has not yet faded\n",
    "            if (t0[k]+tfb[i]<tobs[i])*(tobs[i]<t0[k]+ts[i]):\n",
    "                fhii[k]=True\n",
    "\n",
    "                #print(t0[k], tfb[i], ts[i], tobs[i], t0[k]+tfb[i], t0[k]+ts[i], fhii[k])\n",
    "            \n",
    "            #GMC list index\n",
    "            indgmc=i\n",
    "            \n",
    "            k=k+1\n",
    "        \n",
    "    \n",
    "    return (xhii,yhii,fhii)\n",
    "    \n",
    "    \n",
    "    "
   ]
  },
  {
   "cell_type": "markdown",
   "metadata": {},
   "source": [
    "## Linear Model"
   ]
  },
  {
   "cell_type": "code",
   "execution_count": 235,
   "metadata": {},
   "outputs": [],
   "source": [
    "def lin(x, a, b):\n",
    "    return a+b*x"
   ]
  },
  {
   "cell_type": "markdown",
   "metadata": {},
   "source": [
    "## Read GMC and Random catalogs coordinates"
   ]
  },
  {
   "cell_type": "code",
   "execution_count": 236,
   "metadata": {},
   "outputs": [],
   "source": [
    "xygmc=ascii.read('./output/'+galaxy+'_xy_gmc.txt')\n",
    "x1=xygmc['col0'].data\n",
    "y1=xygmc['col1'].data\n",
    "\n",
    "xyrand=ascii.read('./output/'+galaxy+'_xy_rand.txt')\n",
    "xr=xyrand['col0'].data\n",
    "yr=xyrand['col1'].data\n"
   ]
  },
  {
   "cell_type": "markdown",
   "metadata": {},
   "source": [
    "## Read Observed Correlation Function"
   ]
  },
  {
   "cell_type": "code",
   "execution_count": null,
   "metadata": {},
   "outputs": [],
   "source": [
    "obscorr=ascii.read('./output/'+galaxy+'_corr.txt')\n",
    "r0obs=obscorr['col0'].data\n",
    "w0obs=obscorr['col1'].data\n",
    "ew0obs=obscorr['col2'].data"
   ]
  },
  {
   "cell_type": "markdown",
   "metadata": {},
   "source": [
    "## Fit and remove large scale (few kpc) correlation using linear model"
   ]
  },
  {
   "cell_type": "code",
   "execution_count": null,
   "metadata": {
    "scrolled": false
   },
   "outputs": [
    {
     "data": {
      "image/png": "[encoded data removed]",
      "text/plain": [
       "<Figure size 864x576 with 1 Axes>"
      ]
     },
     "metadata": {
      "needs_background": "light"
     },
     "output_type": "display_data"
    },
    {
     "data": {
      "image/png": "[encoded data removed]",
      "text/plain": [
       "<Figure size 864x576 with 1 Axes>"
      ]
     },
     "metadata": {
      "needs_background": "light"
     },
     "output_type": "display_data"
    }
   ],
   "source": [
    "rmin=500\n",
    "rmax=3000\n",
    "sel=(r0obs>=rmin)*(r0obs<=rmax)\n",
    "popt, pcov = curve_fit(lin, r0obs[sel], w0obs[sel], sigma=ew0obs[sel])\n",
    "#print(popt)\n",
    "w0small=w0obs-lin(r0obs, *popt)\n",
    "\n",
    "\n",
    "\n",
    "\n",
    "#plot large scale fit\n",
    "\n",
    "fig, ax = plt.subplots(figsize=(12, 8))\n",
    "ax.errorbar(r0obs, w0obs, ew0obs, fmt=\"o\", color='grey', capsize=5, alpha=0.5)\n",
    "ax.plot(r0obs, w0obs, 'o', color='black', alpha=1.0)\n",
    "ax.plot(r0obs[sel], w0obs[sel], 'o', color='red', alpha=0.5)\n",
    "ax.plot(r0obs, lin(r0obs, *popt), color='red')\n",
    "#ax.set_ylim(1e-3, 2e0)\n",
    "ax.axhline(y=0, linestyle='--')\n",
    "plt.xlabel('r [pc]', fontsize=20)\n",
    "plt.ylabel(r'$\\omega(r)$ [pc]', fontsize=20)\n",
    "plt.title(galaxy, fontsize=30)\n",
    "ax.tick_params(labelsize=20)\n",
    "#ax.set_yscale('log')\n",
    "#ax.set_xscale('log')\n",
    "plt.savefig('./plots/'+galaxy+'_corr_linfit.png')\n",
    "#plt.show()\n",
    "\n",
    "fig, ax = plt.subplots(figsize=(12, 8))\n",
    "ax.errorbar(r0obs, w0small, ew0obs, fmt=\"o\", color='grey', capsize=5, alpha=0.5)\n",
    "ax.plot(r0obs, w0small, 'o', color='black', alpha=1.0)\n",
    "ax.plot(r0obs[sel], w0small[sel], 'o', color='red', alpha=0.5)\n",
    "ax.set_xlim(0, 1e3)\n",
    "#ax.set_ylim(1e-3, 2e0)\n",
    "ax.axhline(y=0, linestyle='--')\n",
    "plt.xlabel('r [pc]', fontsize=20)\n",
    "plt.ylabel(r'$\\omega(r)-\\omega_{lin}$ [pc]', fontsize=20)\n",
    "plt.title(galaxy, fontsize=30)\n",
    "ax.tick_params(labelsize=20)\n",
    "#ax.set_yscale('log')\n",
    "#ax.set_xscale('log')\n",
    "plt.savefig('./plots/'+galaxy+'_corr_small.png')\n",
    "#plt.show()\n",
    "\n"
   ]
  },
  {
   "cell_type": "markdown",
   "metadata": {},
   "source": [
    "## Function that Evaluates Cross Correlation Function for Model Parameters"
   ]
  },
  {
   "cell_type": "code",
   "execution_count": null,
   "metadata": {},
   "outputs": [],
   "source": [
    "def eval_w(l0, rc0, tc0, ts0, tfb0, Ng0, voff0):\n",
    "    \n",
    "    t0=time.time()\n",
    "    \n",
    "#    print(\"Evaluating Model:\")\n",
    "#    print(\"l=\", l0)\n",
    "#    print(\"rc=\", rc0)\n",
    "#    print(\"tc=\", tc0)\n",
    "#    print(\"ts=\", ts0)\n",
    "#    print(\"tfb=\", tfb0)\n",
    "#    print(\"Ng=\", Ng0)\n",
    "#    print(\"voff=\", voff0)\n",
    "\n",
    "    Nsamples=500\n",
    "#    Nsamples=10\n",
    "\n",
    "    \n",
    "    # Run w() one time to get bins\n",
    "    xgmc, ygmc, rc, tc, ts, tfb, Ng, voff, tobs, fgmc, xr, yr = drawgmc_l(dbox=2000, l=l0, rc=rc0, tc=tc0, ts=ts0, tfb=tfb0, Ng=Ng0, voff=voff0, frand=10)\n",
    "    xhii, yhii, fhii = drawhii(xgmc, ygmc, rc, tc, ts, tfb, Ng, voff, tobs, fgmc)\n",
    "    r0, w0, ew0 = w(xgmc[fgmc], ygmc[fgmc], xhii[fhii], yhii[fhii], xr, yr, rmax=1000)   \n",
    "    w0arr=np.zeros((len(w0),Nsamples))\n",
    "    ew0arr=np.zeros((len(ew0),Nsamples))\n",
    "    \n",
    "   \n",
    "    # Run w() Nsample times and average\n",
    "    for i in range(Nsamples):\n",
    "    \n",
    "        xgmc, ygmc, rc, tc, ts, tfb, Ng, voff, tobs, fgmc, xr, yr = drawgmc_l(dbox=2000, l=l0, rc=rc0, tc=tc0, ts=ts0, tfb=tfb0, Ng=Ng0, voff=voff0, frand=10)\n",
    "        xhii, yhii, fhii = drawhii(xgmc, ygmc, rc, tc, ts, tfb, Ng, voff, tobs, fgmc)\n",
    "        r0, w0arr[:,i], ew0arr[:,i] = w(xgmc[fgmc], ygmc[fgmc], xhii[fhii], yhii[fhii], xr, yr, rmax=1000)\n",
    "        \n",
    "    w0arr[~np.isfinite(w0arr)]=np.nan\n",
    "    ew0arr[~np.isfinite(ew0arr)]=np.nan    \n",
    "    w0=np.nanmean(w0arr, axis=1)\n",
    "    ew0=np.nanmean(ew0arr, axis=1)/np.sqrt(Nsamples)\n",
    "    \n",
    "    \n",
    "    print(\"Model Evaluation Run Time [s] =\", time.time()-t0)\n",
    "\n",
    "    \n",
    "\n",
    "\n",
    "    \n",
    "    return (w0, ew0)\n"
   ]
  },
  {
   "cell_type": "markdown",
   "metadata": {},
   "source": [
    "# Define Priors and Likelihood Functions"
   ]
  },
  {
   "cell_type": "code",
   "execution_count": null,
   "metadata": {},
   "outputs": [],
   "source": [
    "# Trim observed corr function to <=1kpc\n",
    "selr=(r0obs<=1000)\n",
    "\n",
    "\n",
    "def log_prior(p):\n",
    "    l1, rc1, tc1, ts1, tfb1, Ng1, voff1 = p\n",
    "    if 10<l1<300 and 5<rc1<100 and 1<tc1<500 and 1<ts1<20 and 1<tfb1<20 and 1<Ng1<10 and 0<voff1<30:\n",
    "        return 0.0\n",
    "    else:\n",
    "        return -np.inf\n",
    "\n",
    "def log_prob(p):\n",
    "    lprior=log_prior(p)\n",
    "    if np.isfinite(lprior):\n",
    "        w0, ew0 = eval_w(l0=p[0], rc0=p[1], tc0=p[2], ts0=p[3], tfb0=p[4], Ng0=p[5], voff0=p[6])\n",
    "        res=w0-w0small[selr]\n",
    "        sig=ew0obs[selr]\n",
    "        prob=1/(2*np.pi*sig**2)*np.exp(-0.5*(res/sig)**2)\n",
    "        logp=lprior+np.sum(np.log(prob))\n",
    "        if not np.isfinite(logp):\n",
    "#        print(\"fail2\")\n",
    "            return -np.inf\n",
    "        return logp\n",
    "    else:\n",
    "        return -np.inf\n",
    "\n",
    "        \n",
    "\n"
   ]
  },
  {
   "cell_type": "markdown",
   "metadata": {},
   "source": [
    "# Set up MCMC"
   ]
  },
  {
   "cell_type": "code",
   "execution_count": null,
   "metadata": {},
   "outputs": [],
   "source": [
    "ndim=7\n",
    "nwalkers=16\n",
    "\n",
    "p0 = np.zeros((nwalkers, ndim))\n",
    "p0[:,0]=np.random.uniform(50, 200, nwalkers)\n",
    "p0[:,1]=np.random.uniform(20, 100, nwalkers)\n",
    "p0[:,2]=np.random.uniform(1, 500, nwalkers)\n",
    "p0[:,3]=np.random.uniform(5, 15, nwalkers)\n",
    "p0[:,4]=np.random.uniform(1, 10, nwalkers)\n",
    "p0[:,5]=np.random.uniform(1, 10, nwalkers)\n",
    "p0[:,6]=np.random.uniform(0, 30, nwalkers)"
   ]
  },
  {
   "cell_type": "markdown",
   "metadata": {},
   "source": [
    "# Run MCMC Chain"
   ]
  },
  {
   "cell_type": "code",
   "execution_count": null,
   "metadata": {
    "scrolled": false
   },
   "outputs": [
    {
     "name": "stdout",
     "output_type": "stream",
     "text": [
      "Starting MCMC\n",
      "Model Evaluation Run Time [s] = 21.0417582988739\n"
     ]
    },
    {
     "name": "stderr",
     "output_type": "stream",
     "text": [
      "/Users/gblancm/anaconda3/lib/python3.6/site-packages/ipykernel_launcher.py:35: RuntimeWarning: Mean of empty slice\n",
      "/Users/gblancm/anaconda3/lib/python3.6/site-packages/ipykernel_launcher.py:36: RuntimeWarning: Mean of empty slice\n"
     ]
    },
    {
     "name": "stdout",
     "output_type": "stream",
     "text": [
      "Model Evaluation Run Time [s] = 24.085341930389404\n"
     ]
    },
    {
     "name": "stderr",
     "output_type": "stream",
     "text": [
      "/Users/gblancm/anaconda3/lib/python3.6/site-packages/ipykernel_launcher.py:35: RuntimeWarning: Mean of empty slice\n",
      "/Users/gblancm/anaconda3/lib/python3.6/site-packages/ipykernel_launcher.py:36: RuntimeWarning: Mean of empty slice\n"
     ]
    },
    {
     "name": "stdout",
     "output_type": "stream",
     "text": [
      "Model Evaluation Run Time [s] = 29.01798391342163\n",
      "Model Evaluation Run Time [s] = 54.59278607368469\n",
      "Model Evaluation Run Time [s] = 11.623066186904907\n"
     ]
    },
    {
     "name": "stderr",
     "output_type": "stream",
     "text": [
      "/Users/gblancm/anaconda3/lib/python3.6/site-packages/ipykernel_launcher.py:35: RuntimeWarning: Mean of empty slice\n",
      "/Users/gblancm/anaconda3/lib/python3.6/site-packages/ipykernel_launcher.py:36: RuntimeWarning: Mean of empty slice\n"
     ]
    },
    {
     "name": "stdout",
     "output_type": "stream",
     "text": [
      "Model Evaluation Run Time [s] = 10.7184476852417\n",
      "Model Evaluation Run Time [s] = 93.45611596107483\n"
     ]
    },
    {
     "name": "stderr",
     "output_type": "stream",
     "text": [
      "/Users/gblancm/anaconda3/lib/python3.6/site-packages/ipykernel_launcher.py:35: RuntimeWarning: Mean of empty slice\n",
      "/Users/gblancm/anaconda3/lib/python3.6/site-packages/ipykernel_launcher.py:36: RuntimeWarning: Mean of empty slice\n"
     ]
    },
    {
     "name": "stdout",
     "output_type": "stream",
     "text": [
      "Model Evaluation Run Time [s] = 117.88931894302368\n",
      "Model Evaluation Run Time [s] = 55.26746106147766\n",
      "Model Evaluation Run Time [s] = 42.80505084991455\n",
      "Model Evaluation Run Time [s] = 74.1170539855957\n",
      "Model Evaluation Run Time [s] = 68.86178874969482\n",
      "Model Evaluation Run Time [s] = 24.871572017669678\n",
      "Model Evaluation Run Time [s] = 167.31464505195618\n"
     ]
    }
   ],
   "source": [
    "#Nmc=1000\n",
    "Nmc=2\n",
    "\n",
    "print(\"Starting MCMC\")\n",
    "t0full=time.time()\n",
    "\n",
    "\n",
    "with Pool() as pool:\n",
    "    sampler = emcee.EnsembleSampler(nwalkers, ndim, log_prob, pool=pool)\n",
    "    state = sampler.run_mcmc(p0,Nmc)\n",
    "    \n",
    "print(\"MCMC Total Run Time [s] =\", time.time()-t0full)\n"
   ]
  },
  {
   "cell_type": "markdown",
   "metadata": {},
   "source": [
    "# Pickle MCMC Chain"
   ]
  },
  {
   "cell_type": "code",
   "execution_count": null,
   "metadata": {},
   "outputs": [],
   "source": [
    "del(sampler.pool)\n",
    "\n",
    "with open('mcmc.pkl', 'wb') as f:\n",
    "    pickle.dump(sampler, f, pickle.HIGHEST_PROTOCOL)"
   ]
  },
  {
   "cell_type": "markdown",
   "metadata": {},
   "source": [
    "# Unpickle MCMC Chain"
   ]
  },
  {
   "cell_type": "code",
   "execution_count": null,
   "metadata": {},
   "outputs": [],
   "source": [
    "with open('mcmc.pkl', 'rb') as f:\n",
    "    sampler = pickle.load(f)"
   ]
  },
  {
   "cell_type": "markdown",
   "metadata": {},
   "source": [
    "# Find best-fit model (max logP) and evaluate"
   ]
  },
  {
   "cell_type": "code",
   "execution_count": null,
   "metadata": {},
   "outputs": [],
   "source": [
    "samples = sampler.chain\n",
    "print(np.shape(samples))\n",
    "print(np.median(samples[:,-1,:],axis=0))\n",
    "\n",
    "logp=sampler.lnprobability\n",
    "maxlogp=np.max(logp)\n",
    "selbest=np.where(logp == maxlogp)\n",
    "bestwalk=selbest[0][0]\n",
    "bestsamp=selbest[1][0]\n",
    "pbest=samples[bestwalk, bestsamp, :]\n",
    "print(\"Best-fit Parameters:\", pbest)\n",
    "\n",
    "w0, ew0 = eval_w(l0=pbest[0], rc0=pbest[1], tc0=pbest[2], ts0=pbest[3], tfb0=pbest[4], Ng0=pbest[5], voff0=pbest[6])\n",
    "\n",
    "fig, ax = plt.subplots(figsize=(12, 8))\n",
    "ax.plot(r0, w0, 'o', color='green', alpha=1.0)    \n",
    "ax.errorbar(r0obs, w0small, ew0obs, fmt=\"o\", color='black', capsize=5, alpha=0.5)\n",
    "ax.plot(r0obs, w0small, '-o', color='black', alpha=0.5)\n",
    "ax.set_xlim(0, 1000)\n",
    "ax.axhline(y=0, linestyle='--')\n",
    "ax.set_xlabel('r [pc]', fontsize=20)\n",
    "ax.set_ylabel(r'$\\omega(r)$ [pc]', fontsize=20)\n",
    "ax.set_title(galaxy, fontsize=30)\n",
    "ax.tick_params(labelsize=20)\n",
    "plt.savefig('./plots/'+galaxy+'_corr_model.png')\n",
    "#plt.show()\n",
    "        \n",
    "fig, ax = plt.subplots(figsize=(12, 12))\n",
    "#ax.plot(xgmc, ygmc, '.', color='blue', alpha=0.4)\n",
    "ax.plot(xgmc[fgmc], ygmc[fgmc], 'o', color='blue', label='GMC')\n",
    "#ax.plot(xhii, yhii, '.', color='red', alpha=0.4)\n",
    "ax.plot(xhii[fhii], yhii[fhii], 'o', color='red', label='HII')\n",
    "#ax.set_xlim(-1000, 1000)\n",
    "#ax.set_ylim(-1000, 1000)\n",
    "ax.set_xlabel('X [pc]', fontsize=20)\n",
    "ax.set_ylabel('Y [pc]', fontsize=20)\n",
    "ax.set_title(galaxy, fontsize=30)\n",
    "ax.tick_params(labelsize=20)\n",
    "ax.legend(fontsize=20)\n",
    "plt.savefig('./plots/'+galaxy+'_xy_model.png')\n",
    "#plt.show()\n"
   ]
  },
  {
   "cell_type": "markdown",
   "metadata": {},
   "source": [
    "# Make MCMC Plots"
   ]
  },
  {
   "cell_type": "code",
   "execution_count": null,
   "metadata": {
    "scrolled": false
   },
   "outputs": [],
   "source": [
    "fig, axes = plt.subplots(8, figsize=(20, 50), sharex=True)\n",
    "labels = [\"l\", \"rc\", \"tc\", \"ts\", \"tfb\", \"Ng\", \"voff\"]\n",
    "for i in range(ndim):\n",
    "    ax = axes[i]\n",
    "    for j in range(nwalkers):\n",
    "        ax.plot(samples[j, :, i], \"-\", alpha=0.5)\n",
    "#    ax.set_xlim(0, Nmc)\n",
    "#    ax.set_ylim(-20,100)\n",
    "    ax.set_ylabel(labels[i], fontsize=20)\n",
    "#    ax.yaxis.set_label_coords(-0.1, 0.5)\n",
    "    ax.set_xlabel(\"step number\", fontsize=20)\n",
    "    \n",
    "ax=axes[7]\n",
    "for j in range(nwalkers):\n",
    "    ax.plot(logp[j,:])\n",
    "    ax.set_ylabel(\"logP\", fontsize=20)\n",
    "#    ax.set_ylim(100,150)\n",
    "\n",
    "plt.savefig('./plots/'+galaxy+'_mcmc_samples.png')\n"
   ]
  },
  {
   "cell_type": "code",
   "execution_count": null,
   "metadata": {},
   "outputs": [],
   "source": [
    "Nburn=0\n",
    "goodsamples=samples[:,Nburn:-1,:]\n",
    "flat_goodsamples=goodsamples.reshape((np.shape(goodsamples)[0]*np.shape(goodsamples)[1],np.shape(goodsamples)[2]))\n",
    "fig = corner.corner(flat_goodsamples, labels=labels, range=[(100,300), (5,100), (1,500), (1,10), (1,30), (1, 10), (0,30)]);\n",
    "\n",
    "plt.savefig('./plots/'+galaxy+'_mcmc_corner.png')\n"
   ]
  },
  {
   "cell_type": "code",
   "execution_count": null,
   "metadata": {},
   "outputs": [],
   "source": [
    "# Convert Notebook to Python Script\n",
    "#ignore\n",
    "!jupyter nbconvert --to script --RegexRemovePreprocessor.patterns=\"['#ignore']\" gmc_hii_corr_model.ipynb\n",
    "#os.rename('gmc_hii_corr_model.txt', 'gmc_hii_corr_model.py')\n",
    "\n"
   ]
  },
  {
   "cell_type": "code",
   "execution_count": null,
   "metadata": {},
   "outputs": [],
   "source": []
  }
 ],
 "metadata": {
  "kernelspec": {
   "display_name": "Python 3",
   "language": "python",
   "name": "python3"
  },
  "language_info": {
   "codemirror_mode": {
    "name": "ipython",
    "version": 3
   },
   "file_extension": ".py",
   "mimetype": "text/x-python",
   "name": "python",
   "nbconvert_exporter": "python",
   "pygments_lexer": "ipython3",
   "version": "3.6.8"
  }
 },
 "nbformat": 4,
 "nbformat_minor": 2
}
